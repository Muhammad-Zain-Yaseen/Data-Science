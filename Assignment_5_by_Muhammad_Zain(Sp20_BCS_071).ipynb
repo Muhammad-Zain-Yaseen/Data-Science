{
  "nbformat": 4,
  "nbformat_minor": 0,
  "metadata": {
    "colab": {
      "provenance": []
    },
    "kernelspec": {
      "name": "python3",
      "display_name": "Python 3"
    },
    "language_info": {
      "name": "python"
    }
  },
  "cells": [
    {
      "cell_type": "code",
      "source": [
        "import numpy as np\n",
        "from sklearn.feature_extraction.text import CountVectorizer, TfidfVectorizer\n",
        "from sklearn.metrics.pairwise import cosine_similarity\n",
        "from numpy.linalg import norm\n"
      ],
      "metadata": {
        "id": "kdmDv9PVT1Gr"
      },
      "execution_count": 40,
      "outputs": []
    },
    {
      "cell_type": "code",
      "source": [
        "# Sentences\n",
        "s1 = \"sunshine state enjoy sunshine\"\n",
        "s2 = \"brown fox jump high, brown fox run\"\n",
        "s3 = \"sunshine state fox run fast\"\n",
        "sentences = [s1, s2, s3]\n",
        "print(sentences)"
      ],
      "metadata": {
        "colab": {
          "base_uri": "https://localhost:8080/"
        },
        "id": "ANZ9ZXBNT34_",
        "outputId": "02fb6a3e-b52d-465f-d0d8-696c764ac205"
      },
      "execution_count": 41,
      "outputs": [
        {
          "output_type": "stream",
          "name": "stdout",
          "text": [
            "['sunshine state enjoy sunshine', 'brown fox jump high, brown fox run', 'sunshine state fox run fast']\n"
          ]
        }
      ]
    },
    {
      "cell_type": "code",
      "source": [
        "# BoW model\n",
        "bow_vectorizer = CountVectorizer()\n",
        "bow = bow_vectorizer.fit_transform(sentences)\n",
        "bow_array = bow.toarray()\n",
        "\n"
      ],
      "metadata": {
        "id": "ln_QrF_7UGt2"
      },
      "execution_count": null,
      "outputs": []
    },
    {
      "cell_type": "code",
      "source": [
        "print(\"BoW model for s1:\", bow_array[0])\n",
        "print(\"Bow model for s2:\", bow_array[1])\n",
        "print(\"Bow model for s3\", bow_array[2])"
      ],
      "metadata": {
        "colab": {
          "base_uri": "https://localhost:8080/"
        },
        "id": "SxpL5rsyXMNq",
        "outputId": "c96fb862-b94d-41c1-ff42-b233febc2e88"
      },
      "execution_count": 22,
      "outputs": [
        {
          "output_type": "stream",
          "name": "stdout",
          "text": [
            "BoW model for s1: [0 1 0 0 0 0 0 1 2]\n",
            "Bow model for s2: [2 0 0 2 1 1 1 0 0]\n",
            "Bow model for s3 [0 0 1 1 0 0 1 1 1]\n"
          ]
        }
      ]
    },
    {
      "cell_type": "code",
      "source": [
        "# TF model\n",
        "tf_vectorizer = CountVectorizer(max_df=1.0, min_df=1, max_features=None, stop_words=None, vocabulary=None, binary=False)\n",
        "tf = tf_vectorizer.fit_transform(sentences)\n",
        "tf_array = tf.toarray()"
      ],
      "metadata": {
        "id": "JJfzna32UJsK"
      },
      "execution_count": 43,
      "outputs": []
    },
    {
      "cell_type": "code",
      "source": [
        "print(\"TF model for s1:\", tf_array[0])\n",
        "print(\"TF model for s2\", tf_array[1])\n",
        "print(\"TF model for s3\", tf_array[2])\n"
      ],
      "metadata": {
        "colab": {
          "base_uri": "https://localhost:8080/"
        },
        "id": "Bd0HWQo1Xhz1",
        "outputId": "46179827-8053-47ac-b11b-69747de91973"
      },
      "execution_count": 54,
      "outputs": [
        {
          "output_type": "stream",
          "name": "stdout",
          "text": [
            "TF model for s1: [0 1 0 0 0 0 0 1 2]\n",
            "TF model for s2 [2 0 0 2 1 1 1 0 0]\n",
            "TF model for s3 [0 0 1 1 0 0 1 1 1]\n"
          ]
        }
      ]
    },
    {
      "cell_type": "code",
      "source": [
        "# IDF model\n",
        "idf_vectorizer = TfidfVectorizer(norm='l2', smooth_idf=True, sublinear_tf=False, use_idf=True)\n",
        "idf = idf_vectorizer.fit_transform(sentences)\n",
        "idf_array = idf.toarray()\n"
      ],
      "metadata": {
        "id": "mC82q6CRUMkV"
      },
      "execution_count": 45,
      "outputs": []
    },
    {
      "cell_type": "code",
      "source": [
        "print(\"IDF model for s1:\", idf_array[0])\n",
        "print(\"IDF model for s2:\", idf_array[1])\n",
        "print(\"IDF model for s3:\", idf_array[2])\n"
      ],
      "metadata": {
        "colab": {
          "base_uri": "https://localhost:8080/"
        },
        "id": "keQclmqtX4_1",
        "outputId": "d4fbe372-6c00-4bf1-91ad-660049ac9d7e"
      },
      "execution_count": 46,
      "outputs": [
        {
          "output_type": "stream",
          "name": "stdout",
          "text": [
            "IDF model for s1: [0.         0.50689001 0.         0.         0.         0.\n",
            " 0.         0.38550292 0.77100584]\n",
            "IDF model for s2: [0.67070313 0.         0.         0.51008702 0.33535157 0.33535157\n",
            " 0.25504351 0.         0.        ]\n",
            "IDF model for s3: [0.         0.         0.54935123 0.41779577 0.         0.\n",
            " 0.41779577 0.41779577 0.41779577]\n"
          ]
        }
      ]
    },
    {
      "cell_type": "code",
      "source": [
        "# TF-IDF model\n",
        "tf_idf_vectorizer = TfidfVectorizer(norm='l2', smooth_idf=True)\n",
        "tf_idf = tf_idf_vectorizer.fit_transform(sentences)\n",
        "tf_idf_array = tf_idf.toarray()"
      ],
      "metadata": {
        "id": "jH1SbfvaUQN9"
      },
      "execution_count": 47,
      "outputs": []
    },
    {
      "cell_type": "code",
      "source": [
        "print(\"TF-IDF model for s1:\", tf_idf_array[0])\n",
        "print(\"TF-IDF model for s2:\", tf_idf_array[1])\n",
        "print(\"TF-IDF model for s3:\", tf_idf_array[2])\n",
        "\n"
      ],
      "metadata": {
        "colab": {
          "base_uri": "https://localhost:8080/"
        },
        "id": "Ed76pRFmYSOf",
        "outputId": "f7d2b5d7-3b7d-4a64-f482-bb2e36d2aaca"
      },
      "execution_count": 48,
      "outputs": [
        {
          "output_type": "stream",
          "name": "stdout",
          "text": [
            "TF-IDF model for s1: [0.         0.50689001 0.         0.         0.         0.\n",
            " 0.         0.38550292 0.77100584]\n",
            "TF-IDF model for s2: [0.67070313 0.         0.         0.51008702 0.33535157 0.33535157\n",
            " 0.25504351 0.         0.        ]\n",
            "TF-IDF model for s3: [0.         0.         0.54935123 0.41779577 0.         0.\n",
            " 0.41779577 0.41779577 0.41779577]\n"
          ]
        }
      ]
    },
    {
      "cell_type": "code",
      "source": [
        "# Print results\n",
        "\n",
        "print()\n",
        "print(\"BoW model for s2:\", bow_array[1])\n",
        "print(\"TF model for s2:\", tf_array[1])\n",
        "print(\"TF-IDF model for s2:\", tf_idf_array[1])\n",
        "print()\n",
        "print(\"BoW model for s3:\", bow_array[2])\n",
        "print(\"TF model for s3:\", tf_array[2])\n",
        "print(\"TF-IDF model for s3:\", tf_idf_array[2])"
      ],
      "metadata": {
        "colab": {
          "base_uri": "https://localhost:8080/"
        },
        "id": "A5KlhMBsUT8F",
        "outputId": "cc3818db-c663-4a00-cd12-3fac729d6209"
      },
      "execution_count": 49,
      "outputs": [
        {
          "output_type": "stream",
          "name": "stdout",
          "text": [
            "\n",
            "BoW model for s2: [2 0 0 2 1 1 1 0 0]\n",
            "TF model for s2: [2 0 0 2 1 1 1 0 0]\n",
            "TF-IDF model for s2: [0.67070313 0.         0.         0.51008702 0.33535157 0.33535157\n",
            " 0.25504351 0.         0.        ]\n",
            "\n",
            "BoW model for s3: [0 0 1 1 0 0 1 1 1]\n",
            "TF model for s3: [0 0 1 1 0 0 1 1 1]\n",
            "TF-IDF model for s3: [0.         0.         0.54935123 0.41779577 0.         0.\n",
            " 0.41779577 0.41779577 0.41779577]\n"
          ]
        }
      ]
    },
    {
      "cell_type": "code",
      "source": [
        "S1 = np.array([0,\t1,\t0,\t0,\t0,\t0,\t0,\t1,\t2])                 \n",
        "S3 = np.array([0,\t0,\t1,\t1,\t0,\t0,\t1,\t1,\t1])\n",
        "\n",
        "print(\"S1:\", S1)\n",
        "print(\"S3:\", S3)\n",
        " \n",
        "cosine = np.dot(S1,S3)/(norm(S1)*norm(S3))\n",
        "print(\"\\n Cosine Similarity:\", cosine)\n",
        "     "
      ],
      "metadata": {
        "colab": {
          "base_uri": "https://localhost:8080/"
        },
        "id": "dTGDCw2RZHd9",
        "outputId": "a66e0000-0d80-439f-be9a-613ef1771f03"
      },
      "execution_count": 53,
      "outputs": [
        {
          "output_type": "stream",
          "name": "stdout",
          "text": [
            "S1: [0 1 0 0 0 0 0 1 2]\n",
            "S3: [0 0 1 1 0 0 1 1 1]\n",
            "\n",
            " Cosine Similarity: 0.5477225575051661\n"
          ]
        }
      ]
    }
  ]
}