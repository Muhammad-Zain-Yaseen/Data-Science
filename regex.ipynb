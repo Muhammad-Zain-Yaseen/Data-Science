import re 
  
 # search for string that starts with csc and ends with 001 
 Text = 'roll no is sp20-bcs-071 csc071 csczain0711' 
 result = re.findall(r'csc.*071$', Text) 
 print(result) 
  
  
 # Write a regexp that will match name and extension of any Python (.py) file 
 extension = 'zain.py amplified.py py python apy' 
 result1 = re.findall(r'\w+\.py', extension) 
 print(result1) 
  
 # Check using a regexp the following string contain a legal Python filename? 
 Str = ' It has two files, Assignment1.py and IDS.py' 
 result2 = re.findall(r'\w+\.py', Str) 
 result2 
  
  
 # Write a regexp which detects legal Microsoft Word file names in a string and make a list of them 
 File_list = 'kuni.docx xyz.doc .docx .doc abc2001.docx check.pdf' 
 result3 = re.findall(r'\w+\.doc{1}x{0,1}', File_list) 
 result3 
  
 # Print out the start location of the first such filename you encounter in the following string 
 test_string = 'Please edit the following two MS Word documents (bscs.doc) and (bsse.docx), and share with us' 
 result4 = re.search(r'\w+\.doc{1}x{0,1}', test_string) 
 print(result4.span())